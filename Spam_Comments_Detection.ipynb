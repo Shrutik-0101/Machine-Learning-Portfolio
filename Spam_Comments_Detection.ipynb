{
 "cells": [
  {
   "metadata": {},
   "cell_type": "markdown",
   "source": "## YouTube Spam Comments Detection Model",
   "id": "9577d95c154ef7d8"
  },
  {
   "metadata": {
    "collapsed": true,
    "ExecuteTime": {
     "end_time": "2025-07-25T13:19:24.852869Z",
     "start_time": "2025-07-25T13:19:20.772583Z"
    }
   },
   "cell_type": "code",
   "source": [
    "import sys\n",
    "!{sys.executable} -m pip install pandas numpy scikit-learn"
   ],
   "id": "initial_id",
   "outputs": [
    {
     "name": "stdout",
     "output_type": "stream",
     "text": [
      "Defaulting to user installation because normal site-packages is not writeable\n",
      "Requirement already satisfied: pandas in c:\\users\\hp\\appdata\\local\\packages\\pythonsoftwarefoundation.python.3.12_qbz5n2kfra8p0\\localcache\\local-packages\\python312\\site-packages (2.3.1)\n",
      "Requirement already satisfied: numpy in c:\\users\\hp\\appdata\\local\\packages\\pythonsoftwarefoundation.python.3.12_qbz5n2kfra8p0\\localcache\\local-packages\\python312\\site-packages (2.3.0)\n",
      "Requirement already satisfied: scikit-learn in c:\\users\\hp\\appdata\\local\\packages\\pythonsoftwarefoundation.python.3.12_qbz5n2kfra8p0\\localcache\\local-packages\\python312\\site-packages (1.7.1)\n",
      "Requirement already satisfied: python-dateutil>=2.8.2 in c:\\users\\hp\\appdata\\local\\packages\\pythonsoftwarefoundation.python.3.12_qbz5n2kfra8p0\\localcache\\local-packages\\python312\\site-packages (from pandas) (2.9.0.post0)\n",
      "Requirement already satisfied: pytz>=2020.1 in c:\\users\\hp\\appdata\\local\\packages\\pythonsoftwarefoundation.python.3.12_qbz5n2kfra8p0\\localcache\\local-packages\\python312\\site-packages (from pandas) (2025.2)\n",
      "Requirement already satisfied: tzdata>=2022.7 in c:\\users\\hp\\appdata\\local\\packages\\pythonsoftwarefoundation.python.3.12_qbz5n2kfra8p0\\localcache\\local-packages\\python312\\site-packages (from pandas) (2025.2)\n",
      "Requirement already satisfied: scipy>=1.8.0 in c:\\users\\hp\\appdata\\local\\packages\\pythonsoftwarefoundation.python.3.12_qbz5n2kfra8p0\\localcache\\local-packages\\python312\\site-packages (from scikit-learn) (1.16.0)\n",
      "Requirement already satisfied: joblib>=1.2.0 in c:\\users\\hp\\appdata\\local\\packages\\pythonsoftwarefoundation.python.3.12_qbz5n2kfra8p0\\localcache\\local-packages\\python312\\site-packages (from scikit-learn) (1.5.1)\n",
      "Requirement already satisfied: threadpoolctl>=3.1.0 in c:\\users\\hp\\appdata\\local\\packages\\pythonsoftwarefoundation.python.3.12_qbz5n2kfra8p0\\localcache\\local-packages\\python312\\site-packages (from scikit-learn) (3.6.0)\n",
      "Requirement already satisfied: six>=1.5 in c:\\users\\hp\\appdata\\local\\packages\\pythonsoftwarefoundation.python.3.12_qbz5n2kfra8p0\\localcache\\local-packages\\python312\\site-packages (from python-dateutil>=2.8.2->pandas) (1.17.0)\n"
     ]
    }
   ],
   "execution_count": 3
  },
  {
   "metadata": {
    "ExecuteTime": {
     "end_time": "2025-07-25T13:21:01.446440Z",
     "start_time": "2025-07-25T13:21:01.336302Z"
    }
   },
   "cell_type": "code",
   "source": [
    "import pandas as pd\n",
    "import numpy as np\n",
    "from sklearn.feature_extraction.text import CountVectorizer\n",
    "from sklearn.model_selection import train_test_split\n",
    "from sklearn.naive_bayes import BernoulliNB\n",
    "\n",
    "data = pd.read_csv(\"Youtube04-Eminem.csv\")\n",
    "print(data.sample(5))"
   ],
   "id": "22c45149db16ad37",
   "outputs": [
    {
     "name": "stdout",
     "output_type": "stream",
     "text": [
      "                                      COMMENT_ID          AUTHOR  \\\n",
      "40           z12hsdhwjqesj54wz04cc5aikwemsrarvak   Ben Romanucci   \n",
      "389          z12jy5544qedxbgfq235ufyqbxqkzxbjl04  Brian Fletcher   \n",
      "422  LneaDw26bFv1lZ_yx4_HlVx6xNa0xuiUmgoIsxkWJ3E   seven4justice   \n",
      "177          z133inhqhvzzctc5z04cfdaqcq2uch04fes  RusPassingGame   \n",
      "324        z13zdpqz0qflhrha104cdxir0pbct3v4iys0k    France Silva   \n",
      "\n",
      "                           DATE  \\\n",
      "40                          NaN   \n",
      "389  2015-05-20T22:52:14.890000   \n",
      "422                         NaN   \n",
      "177  2015-05-25T11:04:16.985000   \n",
      "324  2015-05-21T21:54:55.768000   \n",
      "\n",
      "                                               CONTENT  CLASS  \n",
      "40   Im gonna share a little ryhme canibus blows em...      1  \n",
      "389                                     Eminem rocks!﻿      0  \n",
      "422  Media is Evil! Please see and share: W W W. TH...      1  \n",
      "177                      Who is watching in 2015 like﻿      0  \n",
      "324                                                BR﻿      0  \n"
     ]
    }
   ],
   "execution_count": 4
  },
  {
   "metadata": {
    "ExecuteTime": {
     "end_time": "2025-07-25T13:22:12.079130Z",
     "start_time": "2025-07-25T13:22:12.066521Z"
    }
   },
   "cell_type": "code",
   "source": [
    "data = data[[\"CONTENT\", \"CLASS\"]]\n",
    "print(data.sample(5))"
   ],
   "id": "f33d2906ceff26db",
   "outputs": [
    {
     "name": "stdout",
     "output_type": "stream",
     "text": [
      "                                               CONTENT  CLASS\n",
      "442  check out eminem latest track survival if u didnt      1\n",
      "95   Hey everyone, I&#39;m Dakoda Bigelow.  I&#39;m...      1\n",
      "153  You guys should check out this EXTRAORDINARY w...      1\n",
      "305                     if u love rihanna subscribe me      1\n",
      "27   HUH HYUCK HYUCK IM SPECIAL WHO&#39;S WATCHING ...      1\n"
     ]
    }
   ],
   "execution_count": 6
  },
  {
   "metadata": {
    "ExecuteTime": {
     "end_time": "2025-07-25T13:22:53.972690Z",
     "start_time": "2025-07-25T13:22:53.962343Z"
    }
   },
   "cell_type": "code",
   "source": "data[\"CLASS\"] = data[\"CLASS\"].map({0: \"Not Spam\", 1: \"Spam\"})",
   "id": "e5ddfa82169d7e02",
   "outputs": [],
   "execution_count": 8
  },
  {
   "metadata": {
    "ExecuteTime": {
     "end_time": "2025-07-25T13:23:07.779648Z",
     "start_time": "2025-07-25T13:23:07.768354Z"
    }
   },
   "cell_type": "code",
   "source": "print(data.sample(10))",
   "id": "5a3b913f734518a9",
   "outputs": [
    {
     "name": "stdout",
     "output_type": "stream",
     "text": [
      "                                               CONTENT     CLASS\n",
      "381                                          Love you﻿  Not Spam\n",
      "410  Maybe no one will probably read this. But just...      Spam\n",
      "272                                        i hate rap﻿  Not Spam\n",
      "333                                        Great song﻿  Not Spam\n",
      "406                                  I lover this song  Not Spam\n",
      "375                eminem new song check out my videos      Spam\n",
      "66               2015 but Im still listening to this!﻿  Not Spam\n",
      "308  could you guys please check out my channel for...      Spam\n",
      "307  check out our bands page on youtube killtheclo...      Spam\n",
      "436   HI IM 14 YEAR RAPPER SUPPORT ME GUY AND CHECK...      Spam\n"
     ]
    }
   ],
   "execution_count": 9
  },
  {
   "metadata": {
    "ExecuteTime": {
     "end_time": "2025-07-25T13:24:49.610619Z",
     "start_time": "2025-07-25T13:24:49.560862Z"
    }
   },
   "cell_type": "code",
   "source": [
    "x = np.array(data[\"CONTENT\"])\n",
    "y = np.array(data[\"CLASS\"])\n",
    "\n",
    "cv = CountVectorizer()\n",
    "x = cv.fit_transform(x)\n",
    "xtrain, xtest, ytrain, ytest = train_test_split(x, y, test_size=0.2, random_state=42)\n",
    "model = BernoulliNB()\n",
    "model.fit(xtrain, ytrain)\n",
    "print(model.score(xtest, ytest))"
   ],
   "id": "c49ba971ef72df0e",
   "outputs": [
    {
     "name": "stdout",
     "output_type": "stream",
     "text": [
      "0.8111111111111111\n"
     ]
    }
   ],
   "execution_count": 10
  },
  {
   "metadata": {
    "ExecuteTime": {
     "end_time": "2025-07-25T13:26:00.039457Z",
     "start_time": "2025-07-25T13:26:00.026854Z"
    }
   },
   "cell_type": "code",
   "source": [
    "sample = \"Check this out: https://amanxai.com/\"\n",
    "data = cv.transform([sample]).toarray()\n",
    "print(model.predict(data))"
   ],
   "id": "d66fabe93bd19de4",
   "outputs": [
    {
     "name": "stdout",
     "output_type": "stream",
     "text": [
      "['Not Spam']\n"
     ]
    }
   ],
   "execution_count": 11
  },
  {
   "metadata": {},
   "cell_type": "code",
   "outputs": [],
   "execution_count": null,
   "source": "",
   "id": "baaa6be272ed7856"
  }
 ],
 "metadata": {
  "kernelspec": {
   "display_name": "Python 3",
   "language": "python",
   "name": "python3"
  },
  "language_info": {
   "codemirror_mode": {
    "name": "ipython",
    "version": 2
   },
   "file_extension": ".py",
   "mimetype": "text/x-python",
   "name": "python",
   "nbconvert_exporter": "python",
   "pygments_lexer": "ipython2",
   "version": "2.7.6"
  }
 },
 "nbformat": 4,
 "nbformat_minor": 5
}
